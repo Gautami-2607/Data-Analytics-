{
  "nbformat": 4,
  "nbformat_minor": 0,
  "metadata": {
    "colab": {
      "provenance": [],
      "authorship_tag": "ABX9TyPXT0TVNpMeua5i3xy2ZVFc",
      "include_colab_link": true
    },
    "kernelspec": {
      "name": "python3",
      "display_name": "Python 3"
    },
    "language_info": {
      "name": "python"
    }
  },
  "cells": [
    {
      "cell_type": "markdown",
      "metadata": {
        "id": "view-in-github",
        "colab_type": "text"
      },
      "source": [
        "<a href=\"https://colab.research.google.com/github/Gautami-2607/Data-Analytics-/blob/main/Wordnet.ipynb\" target=\"_parent\"><img src=\"https://colab.research.google.com/assets/colab-badge.svg\" alt=\"Open In Colab\"/></a>"
      ]
    },
    {
      "cell_type": "code",
      "execution_count": null,
      "metadata": {
        "id": "NpXIj9dMP23P"
      },
      "outputs": [],
      "source": [
        "import pandas as pd\n",
        "from sklearn.feature_extraction.text import CountVectorizer\n",
        "from sklearn.model_selection import train_test_split, GridSearchCV\n",
        "from sklearn.linear_model import LinearRegression\n",
        "from sklearn.linear_model import LogisticRegression\n",
        "from sklearn.preprocessing import StandardScaler\n",
        "import re\n",
        "from nltk.corpus import stopwords\n",
        "from nltk.stem import WordNetLemmatizer\n",
        "from sklearn.utils import shuffle\n",
        "from sklearn.metrics import confusion_matrix,f1_score,precision_score,recall_score\n",
        "wordnet_lemmatizer = WordNetLemmatizer()"
      ]
    },
    {
      "cell_type": "code",
      "source": [
        "df = pd.read_csv(\"/Tweets.csv\")"
      ],
      "metadata": {
        "id": "sOHhG3P2Z4V9"
      },
      "execution_count": null,
      "outputs": []
    },
    {
      "cell_type": "code",
      "source": [
        "def normalizer(tweet):\n",
        "      only_letters = re.sub(\"[^a-zA-Z]\", \" \", tweet)\n",
        "      only_letters = only_letters.lower()\n",
        "      only_letters = only_letters.split()\n",
        "      filtered_result = [word for word in only_letters if word not in stopwords.words('english')]\n",
        "      lemmas = [wordnet_lemmatizer.lemmatize(t) for t in filtered_result]\n",
        "      lemmas = ' '.join(lemmas)\n",
        "      return lemmas"
      ],
      "metadata": {
        "id": "5nXTrettbVcZ"
      },
      "execution_count": null,
      "outputs": []
    },
    {
      "cell_type": "code",
      "source": [
        "import nltk\n",
        "nltk.download('wordnet')\n",
        "nltk.download('omw-1.4')\n",
        "df = shuffle(df)\n",
        "y = df['airline_sentiment']\n",
        "x = df.text.apply(normalizer)"
      ],
      "metadata": {
        "colab": {
          "base_uri": "https://localhost:8080/"
        },
        "id": "8xJVyaYphzIF",
        "outputId": "c8e90d0a-4efd-4a95-d265-7c0f2b0883c7"
      },
      "execution_count": null,
      "outputs": [
        {
          "output_type": "stream",
          "name": "stderr",
          "text": [
            "[nltk_data] Downloading package wordnet to /root/nltk_data...\n",
            "[nltk_data]   Package wordnet is already up-to-date!\n",
            "[nltk_data] Downloading package omw-1.4 to /root/nltk_data...\n"
          ]
        }
      ]
    },
    {
      "cell_type": "code",
      "source": [
        "vectorizer = CountVectorizer()\n",
        "x_vectorized = vectorizer.fit_transform(x)"
      ],
      "metadata": {
        "id": "3G_vJ7aTiDoz"
      },
      "execution_count": null,
      "outputs": []
    },
    {
      "cell_type": "code",
      "source": [
        "train_x,val_x,train_y,val_y = train_test_split(x_vectorized,y)"
      ],
      "metadata": {
        "id": "eORPX3w4jI-0"
      },
      "execution_count": null,
      "outputs": []
    },
    {
      "cell_type": "code",
      "source": [
        "regressor = LogisticRegression(multi_class='multinomial', solver='newton-cg')\n",
        "model = regressor.fit(train_x, train_y)"
      ],
      "metadata": {
        "id": "x7O9lBoIk6WK"
      },
      "execution_count": null,
      "outputs": []
    },
    {
      "cell_type": "code",
      "source": [
        "params = {'C': [0.001, 0.01, 0.1, 1, 10, 100, 1000] }\n",
        "gs_clf = GridSearchCV(model, params, n_jobs=1, cv=5)\n",
        "gs_clf = gs_clf.fit(train_x, train_y)\n",
        "model = gs_clf.best_estimator_"
      ],
      "metadata": {
        "id": "XtiV5-t7k9OL"
      },
      "execution_count": null,
      "outputs": []
    },
    {
      "cell_type": "code",
      "source": [
        "y_pred = model.predict(val_x)\n",
        "\n",
        "_f1 = f1_score(val_y, y_pred, average='micro')\n",
        "_confusion = confusion_matrix(val_y, y_pred)\n",
        "__precision = precision_score(val_y, y_pred, average='micro')\n",
        "_recall = recall_score(val_y, y_pred, average='micro')\n",
        "_statistics = {'f1_score': _f1,\n",
        "               'confusion_matrix': _confusion,\n",
        "               'precision': __precision,\n",
        "               'recall': _recall\n",
        "              }"
      ],
      "metadata": {
        "id": "U76YZvoXk_NA"
      },
      "execution_count": null,
      "outputs": []
    },
    {
      "cell_type": "code",
      "source": [
        "print(_statistics)"
      ],
      "metadata": {
        "colab": {
          "base_uri": "https://localhost:8080/"
        },
        "id": "BhTjbJdnl_oy",
        "outputId": "fe7df835-19c2-45e7-d502-47d0df4c7976"
      },
      "execution_count": null,
      "outputs": [
        {
          "output_type": "stream",
          "name": "stdout",
          "text": [
            "{'f1_score': 0.7887978142076503, 'confusion_matrix': array([[2029,  191,   70],\n",
            "       [ 258,  476,   66],\n",
            "       [ 110,   78,  382]]), 'precision': 0.7887978142076503, 'recall': 0.7887978142076503}\n"
          ]
        }
      ]
    },
    {
      "cell_type": "code",
      "source": [
        "test_feature = vectorizer.transform(['Meat Week Day 3: Tummy hurts every night'])\n",
        "model.predict(test_feature)"
      ],
      "metadata": {
        "colab": {
          "base_uri": "https://localhost:8080/"
        },
        "id": "90UWVGMFmkIQ",
        "outputId": "becbf8ef-ea36-4c27-a59f-3661d6e47cf4"
      },
      "execution_count": null,
      "outputs": [
        {
          "output_type": "execute_result",
          "data": {
            "text/plain": [
              "array(['negative'], dtype=object)"
            ]
          },
          "metadata": {},
          "execution_count": 35
        }
      ]
    },
    {
      "cell_type": "code",
      "source": [
        "test_feature = vectorizer.transform(['Movie is good'])\n",
        "model.predict(test_feature)"
      ],
      "metadata": {
        "colab": {
          "base_uri": "https://localhost:8080/"
        },
        "id": "gxNDDAr2mmUF",
        "outputId": "be1b41a9-c1f4-460a-86b4-5bd465c8e792"
      },
      "execution_count": null,
      "outputs": [
        {
          "output_type": "execute_result",
          "data": {
            "text/plain": [
              "array(['positive'], dtype=object)"
            ]
          },
          "metadata": {},
          "execution_count": 36
        }
      ]
    },
    {
      "cell_type": "code",
      "source": [
        "test_feature = vectorizer.transform(['I\\'m okay'])\n",
        "model.predict(test_feature)"
      ],
      "metadata": {
        "colab": {
          "base_uri": "https://localhost:8080/"
        },
        "id": "zxCXhN_QmoBn",
        "outputId": "5846d623-630c-4f9c-9ae7-0db5a7ffef14"
      },
      "execution_count": null,
      "outputs": [
        {
          "output_type": "execute_result",
          "data": {
            "text/plain": [
              "array(['neutral'], dtype=object)"
            ]
          },
          "metadata": {},
          "execution_count": 37
        }
      ]
    },
    {
      "cell_type": "code",
      "source": [],
      "metadata": {
        "id": "hxGPjKmomunY"
      },
      "execution_count": null,
      "outputs": []
    },
    {
      "cell_type": "code",
      "source": [
        "import pickle"
      ],
      "metadata": {
        "id": "smNzSmzamp2r"
      },
      "execution_count": null,
      "outputs": []
    },
    {
      "cell_type": "code",
      "source": [
        "pickl = {'vectorizer': vectorizer,\n",
        "         'model': model\n",
        "         }\n",
        "pickle.dump(pickl, open('models'+\".p\", \"wb\"))"
      ],
      "metadata": {
        "id": "Hxfrt9m7mrqu"
      },
      "execution_count": null,
      "outputs": []
    },
    {
      "cell_type": "code",
      "source": [],
      "metadata": {
        "id": "z47wFW8KmtMv"
      },
      "execution_count": null,
      "outputs": []
    }
  ]
}