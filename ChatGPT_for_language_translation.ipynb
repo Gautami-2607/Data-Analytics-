{
  "nbformat": 4,
  "nbformat_minor": 0,
  "metadata": {
    "colab": {
      "provenance": [],
      "authorship_tag": "ABX9TyP8cnGgLLLjTdHcffylw76T",
      "include_colab_link": true
    },
    "kernelspec": {
      "name": "python3",
      "display_name": "Python 3"
    },
    "language_info": {
      "name": "python"
    }
  },
  "cells": [
    {
      "cell_type": "markdown",
      "metadata": {
        "id": "view-in-github",
        "colab_type": "text"
      },
      "source": [
        "<a href=\"https://colab.research.google.com/github/Gautami-2607/Data-Analytics-/blob/main/ChatGPT_for_language_translation.ipynb\" target=\"_parent\"><img src=\"https://colab.research.google.com/assets/colab-badge.svg\" alt=\"Open In Colab\"/></a>"
      ]
    },
    {
      "cell_type": "code",
      "source": [
        "import openai\n",
        "import getpass\n",
        "\n",
        "\n",
        "# Enter your OpenAI API private access key here. IMPORTANT - don't share your code online if it contains your access key or anyone will be able to access your openai account\n",
        "openai.api_key = getpass.getpass(\"Enter your API Key...\")"
      ],
      "metadata": {
        "colab": {
          "base_uri": "https://localhost:8080/"
        },
        "id": "i_7ooN9HZYVP",
        "outputId": "3dfbb28b-8c51-4965-c3dc-40aeff970130"
      },
      "execution_count": 36,
      "outputs": [
        {
          "name": "stdout",
          "output_type": "stream",
          "text": [
            "Enter your API Key...··········\n"
          ]
        }
      ]
    },
    {
      "cell_type": "code",
      "source": [
        "from pprint import pprint\n",
        "models = openai.Model.list()[\"data\"]\n",
        "model_ids = [model['id'] for model in models]\n",
        "model_ids.sort()\n",
        "model_ids"
      ],
      "metadata": {
        "colab": {
          "base_uri": "https://localhost:8080/"
        },
        "id": "p1mhd28fa0qF",
        "outputId": "c2e3e811-6257-4083-b358-015c9b18000c"
      },
      "execution_count": 37,
      "outputs": [
        {
          "output_type": "execute_result",
          "data": {
            "text/plain": [
              "['ada',\n",
              " 'ada-code-search-code',\n",
              " 'ada-code-search-text',\n",
              " 'ada-search-document',\n",
              " 'ada-search-query',\n",
              " 'ada-similarity',\n",
              " 'ada:2020-05-03',\n",
              " 'babbage',\n",
              " 'babbage-code-search-code',\n",
              " 'babbage-code-search-text',\n",
              " 'babbage-search-document',\n",
              " 'babbage-search-query',\n",
              " 'babbage-similarity',\n",
              " 'babbage:2020-05-03',\n",
              " 'code-davinci-edit-001',\n",
              " 'code-search-ada-code-001',\n",
              " 'code-search-ada-text-001',\n",
              " 'code-search-babbage-code-001',\n",
              " 'code-search-babbage-text-001',\n",
              " 'curie',\n",
              " 'curie-instruct-beta',\n",
              " 'curie-search-document',\n",
              " 'curie-search-query',\n",
              " 'curie-similarity',\n",
              " 'curie:2020-05-03',\n",
              " 'cushman:2020-05-03',\n",
              " 'davinci',\n",
              " 'davinci-if:3.0.0',\n",
              " 'davinci-instruct-beta',\n",
              " 'davinci-instruct-beta:2.0.0',\n",
              " 'davinci-search-document',\n",
              " 'davinci-search-query',\n",
              " 'davinci-similarity',\n",
              " 'davinci:2020-05-03',\n",
              " 'gpt-3.5-turbo',\n",
              " 'gpt-3.5-turbo-0301',\n",
              " 'if-curie-v2',\n",
              " 'if-davinci-v2',\n",
              " 'if-davinci:3.0.0',\n",
              " 'text-ada-001',\n",
              " 'text-ada:001',\n",
              " 'text-babbage-001',\n",
              " 'text-babbage:001',\n",
              " 'text-curie-001',\n",
              " 'text-curie:001',\n",
              " 'text-davinci-001',\n",
              " 'text-davinci-002',\n",
              " 'text-davinci-003',\n",
              " 'text-davinci-edit-001',\n",
              " 'text-davinci:001',\n",
              " 'text-embedding-ada-002',\n",
              " 'text-search-ada-doc-001',\n",
              " 'text-search-ada-query-001',\n",
              " 'text-search-babbage-doc-001',\n",
              " 'text-search-babbage-query-001',\n",
              " 'text-search-curie-doc-001',\n",
              " 'text-search-curie-query-001',\n",
              " 'text-search-davinci-doc-001',\n",
              " 'text-search-davinci-query-001',\n",
              " 'text-similarity-ada-001',\n",
              " 'text-similarity-babbage-001',\n",
              " 'text-similarity-curie-001',\n",
              " 'text-similarity-davinci-001',\n",
              " 'whisper-1']"
            ]
          },
          "metadata": {},
          "execution_count": 37
        }
      ]
    },
    {
      "cell_type": "markdown",
      "source": [
        "## Language Translation"
      ],
      "metadata": {
        "id": "0q3nRZ8wbIBV"
      }
    },
    {
      "cell_type": "code",
      "source": [
        "def getLanguageTranslation(prompt, language):\n",
        "  response = openai.Completion.create(\n",
        "      engine=\"text-davinci-002\",\n",
        "      prompt = \"Translate this into {}\\n{}\".format(language, prompt),\n",
        "      temperature=0.3,\n",
        "      max_tokens=100,\n",
        "      top_p=1,\n",
        "      frequency_penalty=0,\n",
        "      presence_penalty =0\n",
        "  )\n",
        "\n",
        "  if 'choices' in response:\n",
        "    if len(response['choices']) > 0:\n",
        "      ans =  response['choices'][0]['text']\n",
        "    else:\n",
        "      ans = \"You beat the AI this time\"\n",
        "  else:\n",
        "    ans = \"You beat the AI this time\"\n",
        "\n",
        "  return ans    \n",
        "\n",
        "\n",
        "prompt = input(\"Enter a prompt: \")\n",
        "language = input(\"Enter a language: \")\n",
        "answer = getLanguageTranslation(prompt, language)  \n",
        "\n",
        "print(answer)\n"
      ],
      "metadata": {
        "colab": {
          "base_uri": "https://localhost:8080/"
        },
        "id": "lvvzA5wdbEkT",
        "outputId": "87c6562b-1694-4018-81cf-85e74512664f"
      },
      "execution_count": 39,
      "outputs": [
        {
          "output_type": "stream",
          "name": "stdout",
          "text": [
            "Enter a prompt: Hello World!\n",
            "Enter a language: Hindi\n",
            "\n",
            "\n",
            "नमस्ते दुनिया!\n"
          ]
        }
      ]
    }
  ]
}